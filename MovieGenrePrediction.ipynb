{
 "cells": [
  {
   "cell_type": "code",
   "execution_count": 37,
   "metadata": {
    "colab": {
     "base_uri": "https://localhost:8080/"
    },
    "executionInfo": {
     "elapsed": 2730,
     "status": "ok",
     "timestamp": 1609672833880,
     "user": {
      "displayName": "Hassnain Ali Khokhar",
      "photoUrl": "https://lh3.googleusercontent.com/a-/AOh14GheppODTb4Juch-Oa9y6eXyamJYDL2Poj-MYpzUow=s64",
      "userId": "06186588047942574725"
     },
     "user_tz": 480
    },
    "id": "68Zjpy9b5chH",
    "outputId": "73c9e000-3b15-48aa-b210-911f5972ac9d"
   },
   "outputs": [
    {
     "name": "stderr",
     "output_type": "stream",
     "text": [
      "[nltk_data] Downloading package stopwords to\n",
      "[nltk_data]     C:\\Users\\hktheone\\AppData\\Roaming\\nltk_data...\n",
      "[nltk_data]   Package stopwords is already up-to-date!\n"
     ]
    }
   ],
   "source": [
    "import pandas as pd\n",
    "from sklearn.svm import SVC\n",
    "from sklearn.model_selection import train_test_split\n",
    "import string\n",
    "from nltk.stem import SnowballStemmer\n",
    "from nltk.corpus import stopwords\n",
    "from sklearn.feature_extraction.text import TfidfVectorizer\n",
    "from sklearn import tree\n",
    "from sklearn.metrics import accuracy_score\n",
    "import numpy as np\n",
    "import warnings\n",
    "warnings.filterwarnings('ignore')\n",
    "import nltk\n",
    "nltk.download('stopwords')\n",
    "import pickle"
   ]
  },
  {
   "cell_type": "code",
   "execution_count": 3,
   "metadata": {
    "colab": {
     "base_uri": "https://localhost:8080/",
     "height": 806
    },
    "executionInfo": {
     "elapsed": 2233,
     "status": "ok",
     "timestamp": 1609672833887,
     "user": {
      "displayName": "Hassnain Ali Khokhar",
      "photoUrl": "https://lh3.googleusercontent.com/a-/AOh14GheppODTb4Juch-Oa9y6eXyamJYDL2Poj-MYpzUow=s64",
      "userId": "06186588047942574725"
     },
     "user_tz": 480
    },
    "id": "Qj4eC77r5chT",
    "outputId": "25c5b638-930b-4dad-e16d-32748f7d97e7"
   },
   "outputs": [
    {
     "data": {
      "text/html": [
       "<div>\n",
       "<style scoped>\n",
       "    .dataframe tbody tr th:only-of-type {\n",
       "        vertical-align: middle;\n",
       "    }\n",
       "\n",
       "    .dataframe tbody tr th {\n",
       "        vertical-align: top;\n",
       "    }\n",
       "\n",
       "    .dataframe thead th {\n",
       "        text-align: right;\n",
       "    }\n",
       "</style>\n",
       "<table border=\"1\" class=\"dataframe\">\n",
       "  <thead>\n",
       "    <tr style=\"text-align: right;\">\n",
       "      <th></th>\n",
       "      <th>Rank</th>\n",
       "      <th>Title</th>\n",
       "      <th>Year</th>\n",
       "      <th>Score</th>\n",
       "      <th>Metascore</th>\n",
       "      <th>Genre</th>\n",
       "      <th>Vote</th>\n",
       "      <th>Director</th>\n",
       "      <th>Runtime</th>\n",
       "      <th>Revenue</th>\n",
       "      <th>Description</th>\n",
       "    </tr>\n",
       "  </thead>\n",
       "  <tbody>\n",
       "    <tr>\n",
       "      <th>0</th>\n",
       "      <td>1</td>\n",
       "      <td>The Shawshank Redemption</td>\n",
       "      <td>1994</td>\n",
       "      <td>9.3</td>\n",
       "      <td>80.0</td>\n",
       "      <td>Drama</td>\n",
       "      <td>2011509</td>\n",
       "      <td>Frank Darabont</td>\n",
       "      <td>142</td>\n",
       "      <td>28.34</td>\n",
       "      <td>Two imprisoned men bond over a number of years...</td>\n",
       "    </tr>\n",
       "    <tr>\n",
       "      <th>1</th>\n",
       "      <td>2</td>\n",
       "      <td>The Dark Knight</td>\n",
       "      <td>2008</td>\n",
       "      <td>9.0</td>\n",
       "      <td>84.0</td>\n",
       "      <td>Action, Crime, Drama</td>\n",
       "      <td>1980200</td>\n",
       "      <td>Christopher Nolan</td>\n",
       "      <td>152</td>\n",
       "      <td>534.86</td>\n",
       "      <td>When the menace known as the Joker emerges fro...</td>\n",
       "    </tr>\n",
       "    <tr>\n",
       "      <th>2</th>\n",
       "      <td>3</td>\n",
       "      <td>Inception</td>\n",
       "      <td>2010</td>\n",
       "      <td>8.8</td>\n",
       "      <td>74.0</td>\n",
       "      <td>Action, Adventure, Sci-Fi</td>\n",
       "      <td>1760209</td>\n",
       "      <td>Christopher Nolan</td>\n",
       "      <td>148</td>\n",
       "      <td>292.58</td>\n",
       "      <td>A thief who steals corporate secrets through t...</td>\n",
       "    </tr>\n",
       "    <tr>\n",
       "      <th>3</th>\n",
       "      <td>4</td>\n",
       "      <td>Fight Club</td>\n",
       "      <td>1999</td>\n",
       "      <td>8.8</td>\n",
       "      <td>66.0</td>\n",
       "      <td>Drama</td>\n",
       "      <td>1609459</td>\n",
       "      <td>David Fincher</td>\n",
       "      <td>139</td>\n",
       "      <td>37.03</td>\n",
       "      <td>An insomniac office worker and a devil-may-car...</td>\n",
       "    </tr>\n",
       "    <tr>\n",
       "      <th>4</th>\n",
       "      <td>5</td>\n",
       "      <td>Pulp Fiction</td>\n",
       "      <td>1994</td>\n",
       "      <td>8.9</td>\n",
       "      <td>94.0</td>\n",
       "      <td>Crime, Drama</td>\n",
       "      <td>1570194</td>\n",
       "      <td>Quentin Tarantino</td>\n",
       "      <td>154</td>\n",
       "      <td>107.93</td>\n",
       "      <td>The lives of two mob hitmen, a boxer, a gangst...</td>\n",
       "    </tr>\n",
       "    <tr>\n",
       "      <th>...</th>\n",
       "      <td>...</td>\n",
       "      <td>...</td>\n",
       "      <td>...</td>\n",
       "      <td>...</td>\n",
       "      <td>...</td>\n",
       "      <td>...</td>\n",
       "      <td>...</td>\n",
       "      <td>...</td>\n",
       "      <td>...</td>\n",
       "      <td>...</td>\n",
       "      <td>...</td>\n",
       "    </tr>\n",
       "    <tr>\n",
       "      <th>9995</th>\n",
       "      <td>9996</td>\n",
       "      <td>When Night Is Falling</td>\n",
       "      <td>1995</td>\n",
       "      <td>6.6</td>\n",
       "      <td>NaN</td>\n",
       "      <td>Drama, Romance</td>\n",
       "      <td>6022</td>\n",
       "      <td>Patricia Rozema</td>\n",
       "      <td>94</td>\n",
       "      <td>1.19</td>\n",
       "      <td>An uptight and conservative woman, working on ...</td>\n",
       "    </tr>\n",
       "    <tr>\n",
       "      <th>9996</th>\n",
       "      <td>9997</td>\n",
       "      <td>Stachka</td>\n",
       "      <td>1925</td>\n",
       "      <td>7.6</td>\n",
       "      <td>NaN</td>\n",
       "      <td>Drama</td>\n",
       "      <td>6021</td>\n",
       "      <td>Sergei M. Eisenstein</td>\n",
       "      <td>95</td>\n",
       "      <td>NaN</td>\n",
       "      <td>A group of oppressed factory workers go on str...</td>\n",
       "    </tr>\n",
       "    <tr>\n",
       "      <th>9997</th>\n",
       "      <td>9998</td>\n",
       "      <td>November Criminals</td>\n",
       "      <td>2017</td>\n",
       "      <td>5.3</td>\n",
       "      <td>31.0</td>\n",
       "      <td>Crime, Drama, Mystery</td>\n",
       "      <td>6020</td>\n",
       "      <td>Sacha Gervasi</td>\n",
       "      <td>85</td>\n",
       "      <td>NaN</td>\n",
       "      <td>After his friend is murdered, a Washington, D....</td>\n",
       "    </tr>\n",
       "    <tr>\n",
       "      <th>9998</th>\n",
       "      <td>9999</td>\n",
       "      <td>120</td>\n",
       "      <td>2008</td>\n",
       "      <td>7.3</td>\n",
       "      <td>NaN</td>\n",
       "      <td>Drama, History, War</td>\n",
       "      <td>6018</td>\n",
       "      <td>Ãzhan Eren</td>\n",
       "      <td>114</td>\n",
       "      <td>NaN</td>\n",
       "      <td>During the Sarikamis Battle, the Ottoman army ...</td>\n",
       "    </tr>\n",
       "    <tr>\n",
       "      <th>9999</th>\n",
       "      <td>10000</td>\n",
       "      <td>The Terror</td>\n",
       "      <td>1963</td>\n",
       "      <td>5.0</td>\n",
       "      <td>NaN</td>\n",
       "      <td>Horror, Thriller</td>\n",
       "      <td>6015</td>\n",
       "      <td>Roger Corman</td>\n",
       "      <td>81</td>\n",
       "      <td>NaN</td>\n",
       "      <td>A young officer in Napoleon's Army pursues a m...</td>\n",
       "    </tr>\n",
       "  </tbody>\n",
       "</table>\n",
       "<p>10000 rows × 11 columns</p>\n",
       "</div>"
      ],
      "text/plain": [
       "       Rank                     Title  Year  Score  Metascore  \\\n",
       "0         1  The Shawshank Redemption  1994    9.3       80.0   \n",
       "1         2           The Dark Knight  2008    9.0       84.0   \n",
       "2         3                 Inception  2010    8.8       74.0   \n",
       "3         4                Fight Club  1999    8.8       66.0   \n",
       "4         5              Pulp Fiction  1994    8.9       94.0   \n",
       "...     ...                       ...   ...    ...        ...   \n",
       "9995   9996     When Night Is Falling  1995    6.6        NaN   \n",
       "9996   9997                   Stachka  1925    7.6        NaN   \n",
       "9997   9998        November Criminals  2017    5.3       31.0   \n",
       "9998   9999                       120  2008    7.3        NaN   \n",
       "9999  10000                The Terror  1963    5.0        NaN   \n",
       "\n",
       "                          Genre     Vote              Director  Runtime  \\\n",
       "0                         Drama  2011509        Frank Darabont      142   \n",
       "1          Action, Crime, Drama  1980200     Christopher Nolan      152   \n",
       "2     Action, Adventure, Sci-Fi  1760209     Christopher Nolan      148   \n",
       "3                         Drama  1609459         David Fincher      139   \n",
       "4                  Crime, Drama  1570194     Quentin Tarantino      154   \n",
       "...                         ...      ...                   ...      ...   \n",
       "9995             Drama, Romance     6022       Patricia Rozema       94   \n",
       "9996                      Drama     6021  Sergei M. Eisenstein       95   \n",
       "9997      Crime, Drama, Mystery     6020         Sacha Gervasi       85   \n",
       "9998        Drama, History, War     6018           Ãzhan Eren      114   \n",
       "9999           Horror, Thriller     6015          Roger Corman       81   \n",
       "\n",
       "      Revenue                                        Description  \n",
       "0       28.34  Two imprisoned men bond over a number of years...  \n",
       "1      534.86  When the menace known as the Joker emerges fro...  \n",
       "2      292.58  A thief who steals corporate secrets through t...  \n",
       "3       37.03  An insomniac office worker and a devil-may-car...  \n",
       "4      107.93  The lives of two mob hitmen, a boxer, a gangst...  \n",
       "...       ...                                                ...  \n",
       "9995     1.19  An uptight and conservative woman, working on ...  \n",
       "9996      NaN  A group of oppressed factory workers go on str...  \n",
       "9997      NaN  After his friend is murdered, a Washington, D....  \n",
       "9998      NaN  During the Sarikamis Battle, the Ottoman army ...  \n",
       "9999      NaN  A young officer in Napoleon's Army pursues a m...  \n",
       "\n",
       "[10000 rows x 11 columns]"
      ]
     },
     "execution_count": 3,
     "metadata": {},
     "output_type": "execute_result"
    }
   ],
   "source": [
    "df=pd.read_csv(\"movies.csv\",encoding = \"ISO-8859-1\")\n",
    "df"
   ]
  },
  {
   "cell_type": "code",
   "execution_count": 4,
   "metadata": {
    "colab": {
     "base_uri": "https://localhost:8080/",
     "height": 771
    },
    "executionInfo": {
     "elapsed": 1490,
     "status": "ok",
     "timestamp": 1609672833890,
     "user": {
      "displayName": "Hassnain Ali Khokhar",
      "photoUrl": "https://lh3.googleusercontent.com/a-/AOh14GheppODTb4Juch-Oa9y6eXyamJYDL2Poj-MYpzUow=s64",
      "userId": "06186588047942574725"
     },
     "user_tz": 480
    },
    "id": "jhYLwdEu5chX",
    "outputId": "f5c62e4d-5e46-4b1a-fd47-2d5badfc5c3a"
   },
   "outputs": [
    {
     "data": {
      "text/html": [
       "<div>\n",
       "<style scoped>\n",
       "    .dataframe tbody tr th:only-of-type {\n",
       "        vertical-align: middle;\n",
       "    }\n",
       "\n",
       "    .dataframe tbody tr th {\n",
       "        vertical-align: top;\n",
       "    }\n",
       "\n",
       "    .dataframe thead th {\n",
       "        text-align: right;\n",
       "    }\n",
       "</style>\n",
       "<table border=\"1\" class=\"dataframe\">\n",
       "  <thead>\n",
       "    <tr style=\"text-align: right;\">\n",
       "      <th></th>\n",
       "      <th>Rank</th>\n",
       "      <th>Title</th>\n",
       "      <th>Year</th>\n",
       "      <th>Score</th>\n",
       "      <th>Metascore</th>\n",
       "      <th>Genre</th>\n",
       "      <th>Vote</th>\n",
       "      <th>Director</th>\n",
       "      <th>Runtime</th>\n",
       "      <th>Revenue</th>\n",
       "      <th>Description</th>\n",
       "    </tr>\n",
       "  </thead>\n",
       "  <tbody>\n",
       "    <tr>\n",
       "      <th>0</th>\n",
       "      <td>1</td>\n",
       "      <td>The Shawshank Redemption</td>\n",
       "      <td>1994</td>\n",
       "      <td>9.3</td>\n",
       "      <td>80.0</td>\n",
       "      <td>Drama</td>\n",
       "      <td>2011509</td>\n",
       "      <td>Frank Darabont</td>\n",
       "      <td>142</td>\n",
       "      <td>28.34</td>\n",
       "      <td>Two imprisoned men bond over a number of years...</td>\n",
       "    </tr>\n",
       "    <tr>\n",
       "      <th>1</th>\n",
       "      <td>2</td>\n",
       "      <td>The Dark Knight</td>\n",
       "      <td>2008</td>\n",
       "      <td>9.0</td>\n",
       "      <td>84.0</td>\n",
       "      <td>Action</td>\n",
       "      <td>1980200</td>\n",
       "      <td>Christopher Nolan</td>\n",
       "      <td>152</td>\n",
       "      <td>534.86</td>\n",
       "      <td>When the menace known as the Joker emerges fro...</td>\n",
       "    </tr>\n",
       "    <tr>\n",
       "      <th>2</th>\n",
       "      <td>3</td>\n",
       "      <td>Inception</td>\n",
       "      <td>2010</td>\n",
       "      <td>8.8</td>\n",
       "      <td>74.0</td>\n",
       "      <td>Action</td>\n",
       "      <td>1760209</td>\n",
       "      <td>Christopher Nolan</td>\n",
       "      <td>148</td>\n",
       "      <td>292.58</td>\n",
       "      <td>A thief who steals corporate secrets through t...</td>\n",
       "    </tr>\n",
       "    <tr>\n",
       "      <th>3</th>\n",
       "      <td>4</td>\n",
       "      <td>Fight Club</td>\n",
       "      <td>1999</td>\n",
       "      <td>8.8</td>\n",
       "      <td>66.0</td>\n",
       "      <td>Drama</td>\n",
       "      <td>1609459</td>\n",
       "      <td>David Fincher</td>\n",
       "      <td>139</td>\n",
       "      <td>37.03</td>\n",
       "      <td>An insomniac office worker and a devil-may-car...</td>\n",
       "    </tr>\n",
       "    <tr>\n",
       "      <th>4</th>\n",
       "      <td>5</td>\n",
       "      <td>Pulp Fiction</td>\n",
       "      <td>1994</td>\n",
       "      <td>8.9</td>\n",
       "      <td>94.0</td>\n",
       "      <td>Crime</td>\n",
       "      <td>1570194</td>\n",
       "      <td>Quentin Tarantino</td>\n",
       "      <td>154</td>\n",
       "      <td>107.93</td>\n",
       "      <td>The lives of two mob hitmen, a boxer, a gangst...</td>\n",
       "    </tr>\n",
       "    <tr>\n",
       "      <th>...</th>\n",
       "      <td>...</td>\n",
       "      <td>...</td>\n",
       "      <td>...</td>\n",
       "      <td>...</td>\n",
       "      <td>...</td>\n",
       "      <td>...</td>\n",
       "      <td>...</td>\n",
       "      <td>...</td>\n",
       "      <td>...</td>\n",
       "      <td>...</td>\n",
       "      <td>...</td>\n",
       "    </tr>\n",
       "    <tr>\n",
       "      <th>9995</th>\n",
       "      <td>9996</td>\n",
       "      <td>When Night Is Falling</td>\n",
       "      <td>1995</td>\n",
       "      <td>6.6</td>\n",
       "      <td>NaN</td>\n",
       "      <td>Drama</td>\n",
       "      <td>6022</td>\n",
       "      <td>Patricia Rozema</td>\n",
       "      <td>94</td>\n",
       "      <td>1.19</td>\n",
       "      <td>An uptight and conservative woman, working on ...</td>\n",
       "    </tr>\n",
       "    <tr>\n",
       "      <th>9996</th>\n",
       "      <td>9997</td>\n",
       "      <td>Stachka</td>\n",
       "      <td>1925</td>\n",
       "      <td>7.6</td>\n",
       "      <td>NaN</td>\n",
       "      <td>Drama</td>\n",
       "      <td>6021</td>\n",
       "      <td>Sergei M. Eisenstein</td>\n",
       "      <td>95</td>\n",
       "      <td>NaN</td>\n",
       "      <td>A group of oppressed factory workers go on str...</td>\n",
       "    </tr>\n",
       "    <tr>\n",
       "      <th>9997</th>\n",
       "      <td>9998</td>\n",
       "      <td>November Criminals</td>\n",
       "      <td>2017</td>\n",
       "      <td>5.3</td>\n",
       "      <td>31.0</td>\n",
       "      <td>Crime</td>\n",
       "      <td>6020</td>\n",
       "      <td>Sacha Gervasi</td>\n",
       "      <td>85</td>\n",
       "      <td>NaN</td>\n",
       "      <td>After his friend is murdered, a Washington, D....</td>\n",
       "    </tr>\n",
       "    <tr>\n",
       "      <th>9998</th>\n",
       "      <td>9999</td>\n",
       "      <td>120</td>\n",
       "      <td>2008</td>\n",
       "      <td>7.3</td>\n",
       "      <td>NaN</td>\n",
       "      <td>Drama</td>\n",
       "      <td>6018</td>\n",
       "      <td>Ãzhan Eren</td>\n",
       "      <td>114</td>\n",
       "      <td>NaN</td>\n",
       "      <td>During the Sarikamis Battle, the Ottoman army ...</td>\n",
       "    </tr>\n",
       "    <tr>\n",
       "      <th>9999</th>\n",
       "      <td>10000</td>\n",
       "      <td>The Terror</td>\n",
       "      <td>1963</td>\n",
       "      <td>5.0</td>\n",
       "      <td>NaN</td>\n",
       "      <td>Horror</td>\n",
       "      <td>6015</td>\n",
       "      <td>Roger Corman</td>\n",
       "      <td>81</td>\n",
       "      <td>NaN</td>\n",
       "      <td>A young officer in Napoleon's Army pursues a m...</td>\n",
       "    </tr>\n",
       "  </tbody>\n",
       "</table>\n",
       "<p>10000 rows × 11 columns</p>\n",
       "</div>"
      ],
      "text/plain": [
       "       Rank                     Title  Year  Score  Metascore   Genre  \\\n",
       "0         1  The Shawshank Redemption  1994    9.3       80.0   Drama   \n",
       "1         2           The Dark Knight  2008    9.0       84.0  Action   \n",
       "2         3                 Inception  2010    8.8       74.0  Action   \n",
       "3         4                Fight Club  1999    8.8       66.0   Drama   \n",
       "4         5              Pulp Fiction  1994    8.9       94.0   Crime   \n",
       "...     ...                       ...   ...    ...        ...     ...   \n",
       "9995   9996     When Night Is Falling  1995    6.6        NaN   Drama   \n",
       "9996   9997                   Stachka  1925    7.6        NaN   Drama   \n",
       "9997   9998        November Criminals  2017    5.3       31.0   Crime   \n",
       "9998   9999                       120  2008    7.3        NaN   Drama   \n",
       "9999  10000                The Terror  1963    5.0        NaN  Horror   \n",
       "\n",
       "         Vote              Director  Runtime  Revenue  \\\n",
       "0     2011509        Frank Darabont      142    28.34   \n",
       "1     1980200     Christopher Nolan      152   534.86   \n",
       "2     1760209     Christopher Nolan      148   292.58   \n",
       "3     1609459         David Fincher      139    37.03   \n",
       "4     1570194     Quentin Tarantino      154   107.93   \n",
       "...       ...                   ...      ...      ...   \n",
       "9995     6022       Patricia Rozema       94     1.19   \n",
       "9996     6021  Sergei M. Eisenstein       95      NaN   \n",
       "9997     6020         Sacha Gervasi       85      NaN   \n",
       "9998     6018           Ãzhan Eren      114      NaN   \n",
       "9999     6015          Roger Corman       81      NaN   \n",
       "\n",
       "                                            Description  \n",
       "0     Two imprisoned men bond over a number of years...  \n",
       "1     When the menace known as the Joker emerges fro...  \n",
       "2     A thief who steals corporate secrets through t...  \n",
       "3     An insomniac office worker and a devil-may-car...  \n",
       "4     The lives of two mob hitmen, a boxer, a gangst...  \n",
       "...                                                 ...  \n",
       "9995  An uptight and conservative woman, working on ...  \n",
       "9996  A group of oppressed factory workers go on str...  \n",
       "9997  After his friend is murdered, a Washington, D....  \n",
       "9998  During the Sarikamis Battle, the Ottoman army ...  \n",
       "9999  A young officer in Napoleon's Army pursues a m...  \n",
       "\n",
       "[10000 rows x 11 columns]"
      ]
     },
     "execution_count": 4,
     "metadata": {},
     "output_type": "execute_result"
    }
   ],
   "source": [
    "#reducing multiple Genres to single which will be the first one (Crime,Drama----->Crime)\n",
    "l=[]\n",
    "for x in list(df[\"Genre\"]):\n",
    "        l.append(x.split(\",\")[0])\n",
    "df[\"Genre\"]=l\n",
    "df"
   ]
  },
  {
   "cell_type": "code",
   "execution_count": 5,
   "metadata": {
    "colab": {
     "base_uri": "https://localhost:8080/"
    },
    "executionInfo": {
     "elapsed": 1025,
     "status": "ok",
     "timestamp": 1609672833893,
     "user": {
      "displayName": "Hassnain Ali Khokhar",
      "photoUrl": "https://lh3.googleusercontent.com/a-/AOh14GheppODTb4Juch-Oa9y6eXyamJYDL2Poj-MYpzUow=s64",
      "userId": "06186588047942574725"
     },
     "user_tz": 480
    },
    "id": "VopFeKb25chZ",
    "outputId": "4c076511-d159-4627-c9ab-e410899b05cc"
   },
   "outputs": [
    {
     "name": "stdout",
     "output_type": "stream",
     "text": [
      "Drama 2081\n",
      "Action 2094\n",
      "Crime 791\n",
      "Adventure 563\n",
      "Biography 496\n",
      "Animation 436\n",
      "Comedy 2729\n",
      "Horror 570\n"
     ]
    }
   ],
   "source": [
    "#supported Genres , limit is 40 otherwise dropepd\n",
    "g=list(df[\"Genre\"].unique())\n",
    "for x in g:\n",
    "    if(df[df[\"Genre\"]==x].count()[0]<200):\n",
    "        df.drop(df[df['Genre']==x].index, inplace = True)\n",
    "        \n",
    "g=list(df[\"Genre\"].unique())\n",
    "for x in g:\n",
    "    print(x,df[df['Genre']==x].count()[0])"
   ]
  },
  {
   "cell_type": "code",
   "execution_count": 6,
   "metadata": {
    "colab": {
     "base_uri": "https://localhost:8080/"
    },
    "executionInfo": {
     "elapsed": 1266,
     "status": "ok",
     "timestamp": 1609673837000,
     "user": {
      "displayName": "Hassnain Ali Khokhar",
      "photoUrl": "https://lh3.googleusercontent.com/a-/AOh14GheppODTb4Juch-Oa9y6eXyamJYDL2Poj-MYpzUow=s64",
      "userId": "06186588047942574725"
     },
     "user_tz": 480
    },
    "id": "WNZx2gUH5cha",
    "outputId": "8dd17ad6-b0ca-4e83-badc-c2a3f84bf50e"
   },
   "outputs": [
    {
     "data": {
      "text/plain": [
       "{'Drama': 1,\n",
       " 'Action': 2,\n",
       " 'Crime': 3,\n",
       " 'Adventure': 4,\n",
       " 'Biography': 5,\n",
       " 'Animation': 6,\n",
       " 'Comedy': 7,\n",
       " 'Horror': 8}"
      ]
     },
     "execution_count": 6,
     "metadata": {},
     "output_type": "execute_result"
    }
   ],
   "source": [
    "#making dictionary genres for simplification \n",
    "# Assigning a number to each Genre\n",
    "genre={}\n",
    "i=1\n",
    "for x in g:\n",
    "    genre[x]=i\n",
    "    i=i+1\n",
    "genre"
   ]
  },
  {
   "cell_type": "code",
   "execution_count": 7,
   "metadata": {
    "colab": {
     "base_uri": "https://localhost:8080/",
     "height": 424
    },
    "executionInfo": {
     "elapsed": 1230,
     "status": "ok",
     "timestamp": 1609672835036,
     "user": {
      "displayName": "Hassnain Ali Khokhar",
      "photoUrl": "https://lh3.googleusercontent.com/a-/AOh14GheppODTb4Juch-Oa9y6eXyamJYDL2Poj-MYpzUow=s64",
      "userId": "06186588047942574725"
     },
     "user_tz": 480
    },
    "id": "sCvf3QKO5cha",
    "outputId": "79a0d014-d9ec-423b-953d-f95bd10555b3"
   },
   "outputs": [
    {
     "data": {
      "text/html": [
       "<div>\n",
       "<style scoped>\n",
       "    .dataframe tbody tr th:only-of-type {\n",
       "        vertical-align: middle;\n",
       "    }\n",
       "\n",
       "    .dataframe tbody tr th {\n",
       "        vertical-align: top;\n",
       "    }\n",
       "\n",
       "    .dataframe thead th {\n",
       "        text-align: right;\n",
       "    }\n",
       "</style>\n",
       "<table border=\"1\" class=\"dataframe\">\n",
       "  <thead>\n",
       "    <tr style=\"text-align: right;\">\n",
       "      <th></th>\n",
       "      <th>Genre</th>\n",
       "      <th>Description</th>\n",
       "    </tr>\n",
       "  </thead>\n",
       "  <tbody>\n",
       "    <tr>\n",
       "      <th>0</th>\n",
       "      <td>1</td>\n",
       "      <td>Two imprisoned men bond over a number of years...</td>\n",
       "    </tr>\n",
       "    <tr>\n",
       "      <th>1</th>\n",
       "      <td>2</td>\n",
       "      <td>When the menace known as the Joker emerges fro...</td>\n",
       "    </tr>\n",
       "    <tr>\n",
       "      <th>2</th>\n",
       "      <td>2</td>\n",
       "      <td>A thief who steals corporate secrets through t...</td>\n",
       "    </tr>\n",
       "    <tr>\n",
       "      <th>3</th>\n",
       "      <td>1</td>\n",
       "      <td>An insomniac office worker and a devil-may-car...</td>\n",
       "    </tr>\n",
       "    <tr>\n",
       "      <th>4</th>\n",
       "      <td>3</td>\n",
       "      <td>The lives of two mob hitmen, a boxer, a gangst...</td>\n",
       "    </tr>\n",
       "    <tr>\n",
       "      <th>...</th>\n",
       "      <td>...</td>\n",
       "      <td>...</td>\n",
       "    </tr>\n",
       "    <tr>\n",
       "      <th>9995</th>\n",
       "      <td>1</td>\n",
       "      <td>An uptight and conservative woman, working on ...</td>\n",
       "    </tr>\n",
       "    <tr>\n",
       "      <th>9996</th>\n",
       "      <td>1</td>\n",
       "      <td>A group of oppressed factory workers go on str...</td>\n",
       "    </tr>\n",
       "    <tr>\n",
       "      <th>9997</th>\n",
       "      <td>3</td>\n",
       "      <td>After his friend is murdered, a Washington, D....</td>\n",
       "    </tr>\n",
       "    <tr>\n",
       "      <th>9998</th>\n",
       "      <td>1</td>\n",
       "      <td>During the Sarikamis Battle, the Ottoman army ...</td>\n",
       "    </tr>\n",
       "    <tr>\n",
       "      <th>9999</th>\n",
       "      <td>8</td>\n",
       "      <td>A young officer in Napoleon's Army pursues a m...</td>\n",
       "    </tr>\n",
       "  </tbody>\n",
       "</table>\n",
       "<p>9760 rows × 2 columns</p>\n",
       "</div>"
      ],
      "text/plain": [
       "      Genre                                        Description\n",
       "0         1  Two imprisoned men bond over a number of years...\n",
       "1         2  When the menace known as the Joker emerges fro...\n",
       "2         2  A thief who steals corporate secrets through t...\n",
       "3         1  An insomniac office worker and a devil-may-car...\n",
       "4         3  The lives of two mob hitmen, a boxer, a gangst...\n",
       "...     ...                                                ...\n",
       "9995      1  An uptight and conservative woman, working on ...\n",
       "9996      1  A group of oppressed factory workers go on str...\n",
       "9997      3  After his friend is murdered, a Washington, D....\n",
       "9998      1  During the Sarikamis Battle, the Ottoman army ...\n",
       "9999      8  A young officer in Napoleon's Army pursues a m...\n",
       "\n",
       "[9760 rows x 2 columns]"
      ]
     },
     "execution_count": 7,
     "metadata": {},
     "output_type": "execute_result"
    }
   ],
   "source": [
    "#Getting required columns\n",
    "df=df[[\"Genre\",\"Description\"]]\n",
    "nl=[]\n",
    "for x in list(df[\"Genre\"]):\n",
    "    nl.append(genre[x])\n",
    "df[\"Genre\"]=nl\n",
    "df"
   ]
  },
  {
   "cell_type": "code",
   "execution_count": 8,
   "metadata": {
    "executionInfo": {
     "elapsed": 1384,
     "status": "ok",
     "timestamp": 1609672836126,
     "user": {
      "displayName": "Hassnain Ali Khokhar",
      "photoUrl": "https://lh3.googleusercontent.com/a-/AOh14GheppODTb4Juch-Oa9y6eXyamJYDL2Poj-MYpzUow=s64",
      "userId": "06186588047942574725"
     },
     "user_tz": 480
    },
    "id": "xNofXh0o5chc"
   },
   "outputs": [],
   "source": [
    "def pre_process(text):\n",
    "    text = text.translate(str.maketrans('', '', string.punctuation))\n",
    "    text = [word for word in text.split() if word.lower() not in stopwords.words('english')]\n",
    "    words = \"\"\n",
    "    for i in text:\n",
    "            stemmer = SnowballStemmer(\"english\")\n",
    "            words += (stemmer.stem(i))+\" \"\n",
    "    return words"
   ]
  },
  {
   "cell_type": "code",
   "execution_count": 26,
   "metadata": {
    "colab": {
     "base_uri": "https://localhost:8080/",
     "height": 424
    },
    "executionInfo": {
     "elapsed": 27688,
     "status": "ok",
     "timestamp": 1609674016212,
     "user": {
      "displayName": "Hassnain Ali Khokhar",
      "photoUrl": "https://lh3.googleusercontent.com/a-/AOh14GheppODTb4Juch-Oa9y6eXyamJYDL2Poj-MYpzUow=s64",
      "userId": "06186588047942574725"
     },
     "user_tz": 480
    },
    "id": "IOXqIoUl5chc",
    "outputId": "01344155-32de-4d3b-f947-ffbfc03a7545"
   },
   "outputs": [],
   "source": [
    "textFeatures = df['Description'].copy()\n",
    "#Extracting important words that will be used as features\n",
    "textFeatures = textFeatures.apply(pre_process)\n",
    "\n",
    "# saving trained data for future use \n",
    "v_input=pd.DataFrame(textFeatures)\n",
    "v_input.to_csv(\"vectorizer_input.csv\")"
   ]
  },
  {
   "cell_type": "code",
   "execution_count": 29,
   "metadata": {
    "colab": {
     "base_uri": "https://localhost:8080/",
     "height": 424
    },
    "executionInfo": {
     "elapsed": 27688,
     "status": "ok",
     "timestamp": 1609674016212,
     "user": {
      "displayName": "Hassnain Ali Khokhar",
      "photoUrl": "https://lh3.googleusercontent.com/a-/AOh14GheppODTb4Juch-Oa9y6eXyamJYDL2Poj-MYpzUow=s64",
      "userId": "06186588047942574725"
     },
     "user_tz": 480
    },
    "id": "IOXqIoUl5chc",
    "outputId": "01344155-32de-4d3b-f947-ffbfc03a7545"
   },
   "outputs": [
    {
     "data": {
      "text/html": [
       "<div>\n",
       "<style scoped>\n",
       "    .dataframe tbody tr th:only-of-type {\n",
       "        vertical-align: middle;\n",
       "    }\n",
       "\n",
       "    .dataframe tbody tr th {\n",
       "        vertical-align: top;\n",
       "    }\n",
       "\n",
       "    .dataframe thead th {\n",
       "        text-align: right;\n",
       "    }\n",
       "</style>\n",
       "<table border=\"1\" class=\"dataframe\">\n",
       "  <thead>\n",
       "    <tr style=\"text-align: right;\">\n",
       "      <th></th>\n",
       "      <th>0</th>\n",
       "    </tr>\n",
       "  </thead>\n",
       "  <tbody>\n",
       "    <tr>\n",
       "      <th>0</th>\n",
       "      <td>(0, 3661)\\t0.4123496415052951\\n  (0, 2999)\\t...</td>\n",
       "    </tr>\n",
       "    <tr>\n",
       "      <th>1</th>\n",
       "      <td>(0, 6956)\\t0.2586082271445425\\n  (0, 5162)\\t...</td>\n",
       "    </tr>\n",
       "    <tr>\n",
       "      <th>2</th>\n",
       "      <td>(0, 2532)\\t0.29812360039153124\\n  (0, 8888)\\...</td>\n",
       "    </tr>\n",
       "    <tr>\n",
       "      <th>3</th>\n",
       "      <td>(0, 9176)\\t0.4523936591659689\\n  (0, 12725)\\...</td>\n",
       "    </tr>\n",
       "    <tr>\n",
       "      <th>4</th>\n",
       "      <td>(0, 14683)\\t0.2574310094889511\\n  (0, 13446)...</td>\n",
       "    </tr>\n",
       "    <tr>\n",
       "      <th>...</th>\n",
       "      <td>...</td>\n",
       "    </tr>\n",
       "    <tr>\n",
       "      <th>9755</th>\n",
       "      <td>(0, 8063)\\t0.3151061274904066\\n  (0, 2399)\\t...</td>\n",
       "    </tr>\n",
       "    <tr>\n",
       "      <th>9756</th>\n",
       "      <td>(0, 10690)\\t0.4725652533498205\\n  (0, 11777)...</td>\n",
       "    </tr>\n",
       "    <tr>\n",
       "      <th>9757</th>\n",
       "      <td>(0, 14273)\\t0.4975021982624719\\n  (0, 3608)\\...</td>\n",
       "    </tr>\n",
       "    <tr>\n",
       "      <th>9758</th>\n",
       "      <td>(0, 11917)\\t0.3500736185909139\\n  (0, 14527)...</td>\n",
       "    </tr>\n",
       "    <tr>\n",
       "      <th>9759</th>\n",
       "      <td>(0, 4488)\\t0.35491669303885265\\n  (0, 1439)\\...</td>\n",
       "    </tr>\n",
       "  </tbody>\n",
       "</table>\n",
       "<p>9760 rows × 1 columns</p>\n",
       "</div>"
      ],
      "text/plain": [
       "                                                      0\n",
       "0       (0, 3661)\\t0.4123496415052951\\n  (0, 2999)\\t...\n",
       "1       (0, 6956)\\t0.2586082271445425\\n  (0, 5162)\\t...\n",
       "2       (0, 2532)\\t0.29812360039153124\\n  (0, 8888)\\...\n",
       "3       (0, 9176)\\t0.4523936591659689\\n  (0, 12725)\\...\n",
       "4       (0, 14683)\\t0.2574310094889511\\n  (0, 13446)...\n",
       "...                                                 ...\n",
       "9755    (0, 8063)\\t0.3151061274904066\\n  (0, 2399)\\t...\n",
       "9756    (0, 10690)\\t0.4725652533498205\\n  (0, 11777)...\n",
       "9757    (0, 14273)\\t0.4975021982624719\\n  (0, 3608)\\...\n",
       "9758    (0, 11917)\\t0.3500736185909139\\n  (0, 14527)...\n",
       "9759    (0, 4488)\\t0.35491669303885265\\n  (0, 1439)\\...\n",
       "\n",
       "[9760 rows x 1 columns]"
      ]
     },
     "execution_count": 29,
     "metadata": {},
     "output_type": "execute_result"
    }
   ],
   "source": [
    "#assigning numbers to features\n",
    "vectorizer = TfidfVectorizer(\"english\",smooth_idf=True,use_idf=True)\n",
    "features = vectorizer.fit_transform(textFeatures)\n",
    "mydf= pd.DataFrame(features)\n",
    "mydf"
   ]
  },
  {
   "cell_type": "code",
   "execution_count": 30,
   "metadata": {
    "colab": {
     "base_uri": "https://localhost:8080/"
    },
    "executionInfo": {
     "elapsed": 8754,
     "status": "ok",
     "timestamp": 1609674230972,
     "user": {
      "displayName": "Hassnain Ali Khokhar",
      "photoUrl": "https://lh3.googleusercontent.com/a-/AOh14GheppODTb4Juch-Oa9y6eXyamJYDL2Poj-MYpzUow=s64",
      "userId": "06186588047942574725"
     },
     "user_tz": 480
    },
    "id": "B2I_5VUf5chl",
    "outputId": "95958901-f5cb-45f7-c8ae-10f56e897cd9"
   },
   "outputs": [],
   "source": [
    "#using smote to balance features\n",
    "from imblearn.over_sampling import SMOTE\n",
    "smote = SMOTE(random_state = 101)\n",
    "X, y = smote.fit_resample(features,df['Genre'])"
   ]
  },
  {
   "cell_type": "code",
   "execution_count": 31,
   "metadata": {
    "colab": {
     "base_uri": "https://localhost:8080/"
    },
    "executionInfo": {
     "elapsed": 8754,
     "status": "ok",
     "timestamp": 1609674230972,
     "user": {
      "displayName": "Hassnain Ali Khokhar",
      "photoUrl": "https://lh3.googleusercontent.com/a-/AOh14GheppODTb4Juch-Oa9y6eXyamJYDL2Poj-MYpzUow=s64",
      "userId": "06186588047942574725"
     },
     "user_tz": 480
    },
    "id": "B2I_5VUf5chl",
    "outputId": "95958901-f5cb-45f7-c8ae-10f56e897cd9"
   },
   "outputs": [
    {
     "name": "stdout",
     "output_type": "stream",
     "text": [
      "Genre no: \t count\n",
      "1:    \t    2729\n",
      "2:    \t    2729\n",
      "3:    \t    2729\n",
      "4:    \t    2729\n",
      "5:    \t    2729\n",
      "6:    \t    2729\n",
      "7:    \t    2729\n",
      "8:    \t    2729\n"
     ]
    }
   ],
   "source": [
    "print(\"Genre no: \\t count\") \n",
    "for x in list(set(y)):\n",
    "  print(str(x)+\":    \\t   \",np.count_nonzero(x==y))"
   ]
  },
  {
   "cell_type": "code",
   "execution_count": 32,
   "metadata": {
    "executionInfo": {
     "elapsed": 1111,
     "status": "ok",
     "timestamp": 1609672933602,
     "user": {
      "displayName": "Hassnain Ali Khokhar",
      "photoUrl": "https://lh3.googleusercontent.com/a-/AOh14GheppODTb4Juch-Oa9y6eXyamJYDL2Poj-MYpzUow=s64",
      "userId": "06186588047942574725"
     },
     "user_tz": 480
    },
    "id": "qjgEdhqF5chk"
   },
   "outputs": [],
   "source": [
    "features_train, features_test, labels_train, labels_test = train_test_split(X, y, test_size=0.2, random_state=111)"
   ]
  },
  {
   "cell_type": "code",
   "execution_count": 51,
   "metadata": {
    "colab": {
     "base_uri": "https://localhost:8080/"
    },
    "executionInfo": {
     "elapsed": 84988,
     "status": "ok",
     "timestamp": 1609674332780,
     "user": {
      "displayName": "Hassnain Ali Khokhar",
      "photoUrl": "https://lh3.googleusercontent.com/a-/AOh14GheppODTb4Juch-Oa9y6eXyamJYDL2Poj-MYpzUow=s64",
      "userId": "06186588047942574725"
     },
     "user_tz": 480
    },
    "id": "ILCy6rCt5chd",
    "outputId": "afd7f496-6063-4012-d486-1a2aabb3dc3f"
   },
   "outputs": [
    {
     "name": "stdout",
     "output_type": "stream",
     "text": [
      "0.8376459812228074\n"
     ]
    }
   ],
   "source": [
    "#Training the model\n",
    "svc = SVC(kernel='linear', gamma=22)\n",
    "svc.fit(features_train, labels_train)\n",
    "prediction = svc.predict(features_test)\n",
    "print(accuracy_score(labels_test,prediction))\n",
    "\n",
    "# Saving the trained model\n",
    "filename = 'finalized_model.sav'\n",
    "pickle.dump(svc, open(filename, 'wb'))"
   ]
  },
  {
   "cell_type": "code",
   "execution_count": 40,
   "metadata": {
    "executionInfo": {
     "elapsed": 1369,
     "status": "ok",
     "timestamp": 1609673037888,
     "user": {
      "displayName": "Hassnain Ali Khokhar",
      "photoUrl": "https://lh3.googleusercontent.com/a-/AOh14GheppODTb4Juch-Oa9y6eXyamJYDL2Poj-MYpzUow=s64",
      "userId": "06186588047942574725"
     },
     "user_tz": 480
    },
    "id": "7buxNEln5chf"
   },
   "outputs": [],
   "source": [
    "def predict_genre(msg):\n",
    "    if(len(msg)<100):\n",
    "        return(\" Kindly insert more than 100 characters \")\n",
    "    msg=pre_process(msg)\n",
    "    #using same vectorizer object to generate same number of features from given input\n",
    "    ft=vectorizer.transform([msg])\n",
    "    n=svc.predict(ft)[0]\n",
    "    index=list(genre.values()).index(n)\n",
    "    return list(genre.keys())[index]"
   ]
  },
  {
   "cell_type": "code",
   "execution_count": 44,
   "metadata": {
    "colab": {
     "base_uri": "https://localhost:8080/",
     "height": 36
    },
    "executionInfo": {
     "elapsed": 1295,
     "status": "ok",
     "timestamp": 1609673040985,
     "user": {
      "displayName": "Hassnain Ali Khokhar",
      "photoUrl": "https://lh3.googleusercontent.com/a-/AOh14GheppODTb4Juch-Oa9y6eXyamJYDL2Poj-MYpzUow=s64",
      "userId": "06186588047942574725"
     },
     "user_tz": 480
    },
    "id": "Glqfwe3G5chg",
    "outputId": "de9ea3d2-520e-49cd-ffe8-ec83c6015adb"
   },
   "outputs": [
    {
     "data": {
      "text/plain": [
       "'Horror'"
      ]
     },
     "execution_count": 44,
     "metadata": {},
     "output_type": "execute_result"
    }
   ],
   "source": [
    "# miscellaneous example\n",
    "msg=\"a stranger travels into the land of undead where he is not welcomed but he must survive with whatever means taken\"\n",
    "predict_genre(msg)"
   ]
  },
  {
   "cell_type": "code",
   "execution_count": 45,
   "metadata": {
    "colab": {
     "base_uri": "https://localhost:8080/",
     "height": 36
    },
    "executionInfo": {
     "elapsed": 1196,
     "status": "ok",
     "timestamp": 1609673050495,
     "user": {
      "displayName": "Hassnain Ali Khokhar",
      "photoUrl": "https://lh3.googleusercontent.com/a-/AOh14GheppODTb4Juch-Oa9y6eXyamJYDL2Poj-MYpzUow=s64",
      "userId": "06186588047942574725"
     },
     "user_tz": 480
    },
    "id": "KDCyB4ZS5chi",
    "outputId": "5617ef1d-2d0d-4f6c-b5d6-57e1598705a3"
   },
   "outputs": [
    {
     "data": {
      "text/plain": [
       "'Action'"
      ]
     },
     "execution_count": 45,
     "metadata": {},
     "output_type": "execute_result"
    }
   ],
   "source": [
    "#Tenet (Action/Sci-fi)\n",
    "msg=\"Armed with only one word, Tenet, and fighting for the survival of the entire world, a Protagonist journeys through a twilight world of international espionage on a mission that will unfold in something beyond real time. \"\n",
    "predict_genre(msg)"
   ]
  },
  {
   "cell_type": "code",
   "execution_count": 46,
   "metadata": {
    "colab": {
     "base_uri": "https://localhost:8080/",
     "height": 36
    },
    "executionInfo": {
     "elapsed": 1066,
     "status": "ok",
     "timestamp": 1609673054463,
     "user": {
      "displayName": "Hassnain Ali Khokhar",
      "photoUrl": "https://lh3.googleusercontent.com/a-/AOh14GheppODTb4Juch-Oa9y6eXyamJYDL2Poj-MYpzUow=s64",
      "userId": "06186588047942574725"
     },
     "user_tz": 480
    },
    "id": "3sqiJcQf5chj",
    "outputId": "b40ae6b4-990f-4bb4-cf53-0df623feaf25"
   },
   "outputs": [
    {
     "data": {
      "text/plain": [
       "'Adventure'"
      ]
     },
     "execution_count": 46,
     "metadata": {},
     "output_type": "execute_result"
    }
   ],
   "source": [
    "#Mulan(2020) (Action/Adventure)\n",
    "msg=\"A girl disguises as a male warrior and joins the imperial army in order to prevent her sick father from being forced to enlist as he has no male heir.\"\n",
    "predict_genre(msg)"
   ]
  },
  {
   "cell_type": "code",
   "execution_count": 47,
   "metadata": {
    "colab": {
     "base_uri": "https://localhost:8080/",
     "height": 36
    },
    "executionInfo": {
     "elapsed": 1152,
     "status": "ok",
     "timestamp": 1609673059965,
     "user": {
      "displayName": "Hassnain Ali Khokhar",
      "photoUrl": "https://lh3.googleusercontent.com/a-/AOh14GheppODTb4Juch-Oa9y6eXyamJYDL2Poj-MYpzUow=s64",
      "userId": "06186588047942574725"
     },
     "user_tz": 480
    },
    "id": "Qfq6vpFR5chj",
    "outputId": "75ec0503-ce55-4552-b8cd-be0c310eacf8"
   },
   "outputs": [
    {
     "data": {
      "text/plain": [
       "'Action'"
      ]
     },
     "execution_count": 47,
     "metadata": {},
     "output_type": "execute_result"
    }
   ],
   "source": [
    "#Monster Hunter (Action/Fantasy)\n",
    "msg=\"When Lt. Artemis and her loyal soldiers are transported to a new world, they engage in a desperate battle for survival against enormous enemies with incredible powers. Feature film based on the video game by Capcom.\"\n",
    "predict_genre(msg)"
   ]
  },
  {
   "cell_type": "code",
   "execution_count": 48,
   "metadata": {
    "colab": {
     "base_uri": "https://localhost:8080/",
     "height": 36
    },
    "executionInfo": {
     "elapsed": 1086,
     "status": "ok",
     "timestamp": 1609673062784,
     "user": {
      "displayName": "Hassnain Ali Khokhar",
      "photoUrl": "https://lh3.googleusercontent.com/a-/AOh14GheppODTb4Juch-Oa9y6eXyamJYDL2Poj-MYpzUow=s64",
      "userId": "06186588047942574725"
     },
     "user_tz": 480
    },
    "id": "BKU5Gkv-5chk",
    "outputId": "478da1c9-c0d2-4b01-d61d-2b471d0a9949"
   },
   "outputs": [
    {
     "data": {
      "text/plain": [
       "'Horror'"
      ]
     },
     "execution_count": 48,
     "metadata": {},
     "output_type": "execute_result"
    }
   ],
   "source": [
    "#Hole in the ground(2019) (Horror/Thriller)\n",
    "msg=\"One night, Sarah's young son disappears into the woods behind their rural home. When he returns, he looks the same, but his behavior grows increasingly disturbing. Sarah begins to believe that the boy who returned may not be her son at all.\"\n",
    "predict_genre(msg)"
   ]
  },
  {
   "cell_type": "code",
   "execution_count": 50,
   "metadata": {
    "id": "pACJOljZ9E6s"
   },
   "outputs": [
    {
     "data": {
      "text/plain": [
       "'Drama'"
      ]
     },
     "execution_count": 50,
     "metadata": {},
     "output_type": "execute_result"
    }
   ],
   "source": [
    "#Emma (Romance/Drama)\n",
    "msg=\"Following the antics of a young woman, Emma Woodhouse, who lives in Georgian- and Regency-era England and occupies herself with matchmaking - in sometimes misguided, often meddlesome fashion- in the lives of her friends and family.\"\n",
    "predict_genre(msg)"
   ]
  },
  {
   "cell_type": "code",
   "execution_count": null,
   "metadata": {
    "id": "KMiKVyaJ5chm"
   },
   "outputs": [],
   "source": []
  }
 ],
 "metadata": {
  "colab": {
   "collapsed_sections": [],
   "name": "MovieGenrePrediction.ipynb",
   "provenance": []
  },
  "kernelspec": {
   "display_name": "Python 3",
   "language": "python",
   "name": "python3"
  },
  "language_info": {
   "codemirror_mode": {
    "name": "ipython",
    "version": 3
   },
   "file_extension": ".py",
   "mimetype": "text/x-python",
   "name": "python",
   "nbconvert_exporter": "python",
   "pygments_lexer": "ipython3",
   "version": "3.7.0"
  }
 },
 "nbformat": 4,
 "nbformat_minor": 1
}
